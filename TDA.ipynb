{
  "nbformat": 4,
  "nbformat_minor": 0,
  "metadata": {
    "colab": {
      "name": "TDA.ipynb",
      "provenance": [],
      "collapsed_sections": [],
      "authorship_tag": "ABX9TyPBwYQCjRXthvSdDg1Db7FX",
      "include_colab_link": true
    },
    "kernelspec": {
      "name": "python3",
      "display_name": "Python 3"
    }
  },
  "cells": [
    {
      "cell_type": "markdown",
      "metadata": {
        "id": "view-in-github",
        "colab_type": "text"
      },
      "source": [
        "<a href=\"https://colab.research.google.com/github/kevcalderon/IPC2-TDA/blob/main/TDA.ipynb\" target=\"_parent\"><img src=\"https://colab.research.google.com/assets/colab-badge.svg\" alt=\"Open In Colab\"/></a>"
      ]
    },
    {
      "cell_type": "code",
      "metadata": {
        "id": "KHZm1YqWraTT"
      },
      "source": [
        "class cliente:\r\n",
        "  def __init__(self, nombre,no_habitacion):\r\n",
        "    self.nombre = nombre\r\n",
        "    self.no_habitacion = no_habitacion\r\n",
        "\r\n",
        "\r\n",
        "class node:\r\n",
        "  def __init__(self, cliente=None, next=None):\r\n",
        "    self.cliente=cliente\r\n",
        "    self.next=next\r\n",
        "\r\n",
        "\r\n",
        "class linked_list:\r\n",
        "  def __init__(self):\r\n",
        "    self.head=None\r\n",
        "\r\n",
        "\r\n",
        "  def insertar(self, cliente):\r\n",
        "    if not self.head:\r\n",
        "      self.head = node(cliente=cliente)\r\n",
        "      return\r\n",
        "    current=self.head\r\n",
        "    while current.next:\r\n",
        "      current=current.next\r\n",
        "    current.next=node(cliente=cliente)\r\n",
        "\r\n",
        "\r\n",
        "  def imprimir(self):\r\n",
        "    node=self.head\r\n",
        "    while node != None: \r\n",
        "      print(node.cliente.nombre, end=\"=>\")\r\n",
        "      node=node.next\r\n",
        "\r\n",
        "  \r\n",
        "  def eliminar(self, no_habitacion):\r\n",
        "    current=self.head\r\n",
        "    previous= None\r\n",
        "\r\n",
        "    while current and current.cliente.no_habitacion != no_habitacion:\r\n",
        "      previous = current\r\n",
        "      current= current.next\r\n",
        "    if previous is None:\r\n",
        "      self.head = current.next\r\n",
        "    elif current:\r\n",
        "      previous.next=current.next\r\n",
        "      current.next=None\r\n"
      ],
      "execution_count": 1,
      "outputs": []
    },
    {
      "cell_type": "code",
      "metadata": {
        "colab": {
          "base_uri": "https://localhost:8080/"
        },
        "id": "jauf-LEHrbFy",
        "outputId": "019c54b2-5f94-4e02-f101-1bf04c5c7704"
      },
      "source": [
        "c1 = cliente(\"Eduardo Zapeta\", 101)\r\n",
        "c2 = cliente(\"Marco Lopez\", 103)\r\n",
        "c3 = cliente(\"Josue Armas\", 204)\r\n",
        "c4 = cliente(\"Gladys Olmos\", 302)\r\n",
        "\r\n",
        "lista = linked_list()\r\n",
        "lista.insertar(c1)\r\n",
        "lista.insertar(c2)\r\n",
        "lista.insertar(c3)\r\n",
        "lista.insertar(c4)\r\n",
        "\r\n",
        "lista.imprimir()"
      ],
      "execution_count": 2,
      "outputs": [
        {
          "output_type": "stream",
          "text": [
            "Eduardo Zapeta=>Marco Lopez=>Josue Armas=>Gladys Olmos=>"
          ],
          "name": "stdout"
        }
      ]
    },
    {
      "cell_type": "markdown",
      "metadata": {
        "id": "mfP0EDIHQjUd"
      },
      "source": [
        "**LISTA CIRCULAR**\r\n"
      ]
    },
    {
      "cell_type": "code",
      "metadata": {
        "id": "N3dfxzuTQn11"
      },
      "source": [
        "class linked_list_circular:\r\n",
        "  def __init__(self, head = None):\r\n",
        "    self.head = head\r\n",
        "    self.size = 0\r\n",
        "\r\n",
        "  def insertar(self, cliente):\r\n",
        "    if self.size == 0:\r\n",
        "      self.head = node(cliente=cliente)\r\n",
        "      self.head.next = self.head\r\n",
        "    else:\r\n",
        "      new_node = node(cliente=cliente, next=self.head.next)\r\n",
        "      self.head.next = new_node\r\n",
        "    self.size += 1\r\n",
        "\r\n",
        "  def imprimir(self):\r\n",
        "    if self.head is None:\r\n",
        "      return\r\n",
        "    node = self.head\r\n",
        "    print(node.cliente.nombre, end= \"->\")\r\n",
        "    while node.next != self.head:\r\n",
        "      node = node.next\r\n",
        "      print(node.cliente.nombre, end = \"->\")\r\n",
        "  \r\n",
        "  def eliminar(self, no_habitacion):\r\n",
        "    #obtenido el valor de la cabecera\r\n",
        "    node = self.head\r\n",
        "    previous = None\r\n",
        "\r\n",
        "    while True:\r\n",
        "      if node.cliente.no_habitacion == no_habitacion:\r\n",
        "        if previous is not None:\r\n",
        "          previous.next = node.next\r\n",
        "        else:\r\n",
        "          while node.next != self.head:\r\n",
        "            node = node.next\r\n",
        "          node.next = self.head.next\r\n",
        "          self.head = self.head.next\r\n",
        "        self.size -= 1\r\n",
        "        return True\r\n",
        "      elif node.next == self.head:\r\n",
        "        return False\r\n",
        "      \r\n",
        "      previous = node\r\n",
        "      node =  node.next\r\n"
      ],
      "execution_count": 8,
      "outputs": []
    },
    {
      "cell_type": "code",
      "metadata": {
        "id": "VimUhyW_ROkS"
      },
      "source": [
        "lista_c = linked_list_circular()\r\n",
        "\r\n",
        "c5 = cliente(\"Carlos Primero\", 101)\r\n",
        "c6 = cliente(\"Jose Lopez\", 103)\r\n",
        "c7 = cliente(\"Gerry Armas\", 204)\r\n",
        "c8 = cliente(\"Ashley Pamela\", 302)"
      ],
      "execution_count": 9,
      "outputs": []
    },
    {
      "cell_type": "code",
      "metadata": {
        "id": "Y-RbhA1GRu5l"
      },
      "source": [
        "lista_c.insertar(c5)\r\n",
        "lista_c.insertar(c6)\r\n",
        "lista_c.insertar(c7)\r\n",
        "lista_c.insertar(c8)\r\n"
      ],
      "execution_count": null,
      "outputs": []
    },
    {
      "cell_type": "code",
      "metadata": {
        "colab": {
          "base_uri": "https://localhost:8080/"
        },
        "id": "yIc3SCLyTzZ7",
        "outputId": "af2c3fca-3715-4e30-df30-3f7f3ece5963"
      },
      "source": [
        "lista_c.imprimir()"
      ],
      "execution_count": null,
      "outputs": [
        {
          "output_type": "stream",
          "text": [
            "Carlos Primero->Ashley Pamela->Gerry Armas->Jose Lopez->"
          ],
          "name": "stdout"
        }
      ]
    },
    {
      "cell_type": "code",
      "metadata": {
        "colab": {
          "base_uri": "https://localhost:8080/"
        },
        "id": "_xTWb4ETfOeF",
        "outputId": "bc22bf8b-fb4f-4ffd-8991-03c78136bf9d"
      },
      "source": [
        "lista_c.eliminar(101)"
      ],
      "execution_count": null,
      "outputs": [
        {
          "output_type": "execute_result",
          "data": {
            "text/plain": [
              "True"
            ]
          },
          "metadata": {
            "tags": []
          },
          "execution_count": 19
        }
      ]
    },
    {
      "cell_type": "code",
      "metadata": {
        "colab": {
          "base_uri": "https://localhost:8080/"
        },
        "id": "OEUPywmffZ9n",
        "outputId": "673cab75-33c3-486d-f2d5-e74a9fb56cf4"
      },
      "source": [
        "lista_c.imprimir()"
      ],
      "execution_count": null,
      "outputs": [
        {
          "output_type": "stream",
          "text": [
            "Ashley Pamela->Gerry Armas->Jose Lopez->"
          ],
          "name": "stdout"
        }
      ]
    },
    {
      "cell_type": "code",
      "metadata": {
        "colab": {
          "base_uri": "https://localhost:8080/"
        },
        "id": "noQa2tZ_gg60",
        "outputId": "8dae45f1-bb00-430d-8888-c7461ea6dfac"
      },
      "source": [
        "lista_c.eliminar(204)"
      ],
      "execution_count": null,
      "outputs": [
        {
          "output_type": "execute_result",
          "data": {
            "text/plain": [
              "True"
            ]
          },
          "metadata": {
            "tags": []
          },
          "execution_count": 21
        }
      ]
    },
    {
      "cell_type": "code",
      "metadata": {
        "colab": {
          "base_uri": "https://localhost:8080/"
        },
        "id": "MaOVAIlFgqoS",
        "outputId": "c30b57dc-4931-435c-df43-54f007d0ba5c"
      },
      "source": [
        "lista_c.eliminar(199)"
      ],
      "execution_count": null,
      "outputs": [
        {
          "output_type": "execute_result",
          "data": {
            "text/plain": [
              "False"
            ]
          },
          "metadata": {
            "tags": []
          },
          "execution_count": 23
        }
      ]
    },
    {
      "cell_type": "code",
      "metadata": {
        "colab": {
          "base_uri": "https://localhost:8080/"
        },
        "id": "lvneASRRgnWD",
        "outputId": "bf71a429-bb9f-4674-e6e1-277258401680"
      },
      "source": [
        "lista_c.imprimir()"
      ],
      "execution_count": null,
      "outputs": [
        {
          "output_type": "stream",
          "text": [
            "Ashley Pamela->Jose Lopez->"
          ],
          "name": "stdout"
        }
      ]
    },
    {
      "cell_type": "markdown",
      "metadata": {
        "id": "7qIwnKCwiq8u"
      },
      "source": [
        "**LISTAS DOBLEMENTE ENLAZADAS**"
      ]
    },
    {
      "cell_type": "code",
      "metadata": {
        "id": "VCkdXsezjLnG"
      },
      "source": [
        "class node_de:\r\n",
        "  def __init__(self, cliente=None, next=None, previous=None):\r\n",
        "    self.cliente=cliente\r\n",
        "    self.next=next\r\n",
        "    self.previous=previous \r\n",
        "\r\n",
        "\r\n",
        "class linked_list_de:\r\n",
        "  def __init__(self, head=None):\r\n",
        "    self.head = head\r\n",
        "    self.last = head\r\n",
        "    self.size = 0\r\n",
        "  \r\n",
        "  def insertar(self, cliente):\r\n",
        "    if self.size == 0:\r\n",
        "      self.head = node_de(cliente=cliente)\r\n",
        "      #el ultimo es igual al primero.\r\n",
        "      self.last = self.head\r\n",
        "    else:\r\n",
        "      new_node =  node_de(cliente=cliente, next=self.head)\r\n",
        "      self.head.previous = new_node\r\n",
        "      self.head = new_node\r\n",
        "    self.size += 1\r\n",
        "  \r\n",
        "  def imprimir(self):\r\n",
        "    if self.head is None:\r\n",
        "      return\r\n",
        "    node = self.head\r\n",
        "    print(node.cliente.nombre, end = \"->> \")\r\n",
        "    while node.next:\r\n",
        "      node = node.next\r\n",
        "      print(node.cliente.nombre, end = \"-> \")\r\n",
        "\r\n",
        "  def eliminar(self, no_habitacion):\r\n",
        "    node = self.head\r\n",
        "    while node is not None:\r\n",
        "      if node.cliente.no_habitacion == no_habitacion:\r\n",
        "        if node.previous is not None:\r\n",
        "          if node.next:\r\n",
        "            node.previous.next = node.next\r\n",
        "            node.next.previous = node.previous\r\n",
        "          else:\r\n",
        "            node.previous.next = None\r\n",
        "            self.last = node.previous\r\n",
        "        else:\r\n",
        "          self.head = node.next\r\n",
        "          node.next.previous = self.head\r\n",
        "        self.size -= 1\r\n",
        "        return True\r\n",
        "      else:\r\n",
        "        node = node.next\r\n",
        "    return False  \r\n"
      ],
      "execution_count": 64,
      "outputs": []
    },
    {
      "cell_type": "code",
      "metadata": {
        "id": "FDUlP855cF7b"
      },
      "source": [
        "lista_de =  linked_list_de()\r\n",
        "lista_de.insertar(c5)\r\n",
        "lista_de.insertar(c6)\r\n",
        "lista_de.insertar(c7)\r\n",
        "lista_de.insertar(c8)"
      ],
      "execution_count": 62,
      "outputs": []
    },
    {
      "cell_type": "code",
      "metadata": {
        "colab": {
          "base_uri": "https://localhost:8080/"
        },
        "id": "GxIOjxZMdyN6",
        "outputId": "bdfead2e-08ab-46c5-edd9-331a4a1711ff"
      },
      "source": [
        "lista_de.imprimir()"
      ],
      "execution_count": 52,
      "outputs": [
        {
          "output_type": "stream",
          "text": [
            "Ashley Pamela->> Gerry Armas-> Jose Lopez-> Carlos Primero-> "
          ],
          "name": "stdout"
        }
      ]
    },
    {
      "cell_type": "code",
      "metadata": {
        "colab": {
          "base_uri": "https://localhost:8080/"
        },
        "id": "MNYHXt46mczo",
        "outputId": "446b8e5d-9127-4dd7-b6fa-5e2cbb200607"
      },
      "source": [
        "lista_de.eliminar(302)"
      ],
      "execution_count": 53,
      "outputs": [
        {
          "output_type": "execute_result",
          "data": {
            "text/plain": [
              "True"
            ]
          },
          "metadata": {
            "tags": []
          },
          "execution_count": 53
        }
      ]
    },
    {
      "cell_type": "code",
      "metadata": {
        "colab": {
          "base_uri": "https://localhost:8080/"
        },
        "id": "mrZVe-1Um3s_",
        "outputId": "2f9183f2-20d9-4fe3-d2c0-e36db93f30d0"
      },
      "source": [
        "lista_de.imprimir()"
      ],
      "execution_count": 63,
      "outputs": [
        {
          "output_type": "stream",
          "text": [
            "Ashley Pamela->> Gerry Armas-> Jose Lopez-> Carlos Primero-> "
          ],
          "name": "stdout"
        }
      ]
    },
    {
      "cell_type": "code",
      "metadata": {
        "colab": {
          "base_uri": "https://localhost:8080/"
        },
        "id": "dnmqce4erAH1",
        "outputId": "ee6d2a59-ba53-491b-c554-6ea8ee5454f8"
      },
      "source": [
        "lista_de.eliminar(204)"
      ],
      "execution_count": 65,
      "outputs": [
        {
          "output_type": "execute_result",
          "data": {
            "text/plain": [
              "True"
            ]
          },
          "metadata": {
            "tags": []
          },
          "execution_count": 65
        }
      ]
    },
    {
      "cell_type": "code",
      "metadata": {
        "colab": {
          "base_uri": "https://localhost:8080/"
        },
        "id": "vlAU2Og7rDvi",
        "outputId": "35973840-acbb-4f91-d7e8-639a8603315d"
      },
      "source": [
        "lista_de.imprimir()"
      ],
      "execution_count": 66,
      "outputs": [
        {
          "output_type": "stream",
          "text": [
            "Ashley Pamela->> Jose Lopez-> Carlos Primero-> "
          ],
          "name": "stdout"
        }
      ]
    },
    {
      "cell_type": "code",
      "metadata": {
        "colab": {
          "base_uri": "https://localhost:8080/"
        },
        "id": "pTDz7rVqrHYG",
        "outputId": "f6d714f8-13f9-41f3-bd7b-9baaeec68e1a"
      },
      "source": [
        "lista_de.eliminar(302)"
      ],
      "execution_count": 67,
      "outputs": [
        {
          "output_type": "execute_result",
          "data": {
            "text/plain": [
              "True"
            ]
          },
          "metadata": {
            "tags": []
          },
          "execution_count": 67
        }
      ]
    },
    {
      "cell_type": "code",
      "metadata": {
        "colab": {
          "base_uri": "https://localhost:8080/"
        },
        "id": "A9M9voHurNaB",
        "outputId": "218189fb-9503-405c-842a-7f6bae723cc6"
      },
      "source": [
        "lista_de.imprimir()"
      ],
      "execution_count": 68,
      "outputs": [
        {
          "output_type": "stream",
          "text": [
            "Jose Lopez->> Carlos Primero-> "
          ],
          "name": "stdout"
        }
      ]
    },
    {
      "cell_type": "code",
      "metadata": {
        "colab": {
          "base_uri": "https://localhost:8080/"
        },
        "id": "xyCJ1nU6rPCy",
        "outputId": "6e7abbb9-c90a-4569-a286-151ea3d606ab"
      },
      "source": [
        "lista_de.eliminar(103)"
      ],
      "execution_count": 69,
      "outputs": [
        {
          "output_type": "execute_result",
          "data": {
            "text/plain": [
              "True"
            ]
          },
          "metadata": {
            "tags": []
          },
          "execution_count": 69
        }
      ]
    },
    {
      "cell_type": "code",
      "metadata": {
        "colab": {
          "base_uri": "https://localhost:8080/"
        },
        "id": "i_0LeuMUrgyd",
        "outputId": "e7b5496d-acf2-42a2-9b0d-79e58d9d11a6"
      },
      "source": [
        "lista_de.imprimir()"
      ],
      "execution_count": 70,
      "outputs": [
        {
          "output_type": "stream",
          "text": [
            "Jose Lopez->> Carlos Primero-> "
          ],
          "name": "stdout"
        }
      ]
    }
  ]
}