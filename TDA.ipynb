{
  "nbformat": 4,
  "nbformat_minor": 0,
  "metadata": {
    "colab": {
      "name": "TDA.ipynb",
      "provenance": [],
      "collapsed_sections": [],
      "authorship_tag": "ABX9TyNR2G4jr+WsZ92D0/2NtfNj",
      "include_colab_link": true
    },
    "kernelspec": {
      "name": "python3",
      "display_name": "Python 3"
    }
  },
  "cells": [
    {
      "cell_type": "markdown",
      "metadata": {
        "id": "view-in-github",
        "colab_type": "text"
      },
      "source": [
        "<a href=\"https://colab.research.google.com/github/kevcalderon/IPC2-TDA/blob/main/TDA.ipynb\" target=\"_parent\"><img src=\"https://colab.research.google.com/assets/colab-badge.svg\" alt=\"Open In Colab\"/></a>"
      ]
    },
    {
      "cell_type": "code",
      "metadata": {
        "id": "KHZm1YqWraTT"
      },
      "source": [
        "class cliente:\r\n",
        "  def __init__(self, nombre,no_habitacion):\r\n",
        "    self.nombre = nombre\r\n",
        "    self.no_habitacion = no_habitacion\r\n",
        "\r\n",
        "\r\n",
        "class node:\r\n",
        "  def __init__(self, cliente=None, next=None):\r\n",
        "    self.cliente=cliente\r\n",
        "    self.next=next\r\n",
        "\r\n",
        "\r\n",
        "class linked_list:\r\n",
        "  def __init__(self):\r\n",
        "    self.head=None\r\n",
        "\r\n",
        "\r\n",
        "  def insertar(self, cliente):\r\n",
        "    if not self.head:\r\n",
        "      self.head = node(cliente=cliente)\r\n",
        "      return\r\n",
        "    current=self.head\r\n",
        "    while current.next:\r\n",
        "      current=current.next\r\n",
        "    current.next=node(cliente=cliente)\r\n",
        "\r\n",
        "\r\n",
        "  def imprimir(self):\r\n",
        "    node=self.head\r\n",
        "    while node != None: \r\n",
        "      print(node.cliente.nombre, end=\"=>\")\r\n",
        "      node=node.next\r\n",
        "\r\n",
        "  \r\n",
        "  def eliminar(self, no_habitacion):\r\n",
        "    current=self.head\r\n",
        "    previous= None\r\n",
        "\r\n",
        "    while current and current.cliente.no_habitacion != no_habitacion:\r\n",
        "      previous = current\r\n",
        "      current= current.next\r\n",
        "    if previous is None:\r\n",
        "      self.head = current.next\r\n",
        "    elif current:\r\n",
        "      previous.next=current.next\r\n",
        "      current.next=None\r\n"
      ],
      "execution_count": 4,
      "outputs": []
    },
    {
      "cell_type": "code",
      "metadata": {
        "colab": {
          "base_uri": "https://localhost:8080/"
        },
        "id": "jauf-LEHrbFy",
        "outputId": "4ba7a10c-9656-4015-f9cf-9ed820ff5b92"
      },
      "source": [
        "c1 = cliente(\"Eduardo Zapeta\", 101)\r\n",
        "c2 = cliente(\"Marco Lopez\", 103)\r\n",
        "c3 = cliente(\"Josue Armas\", 204)\r\n",
        "c4 = cliente(\"Gladys Olmos\", 302)\r\n",
        "\r\n",
        "lista = linked_list()\r\n",
        "lista.insertar(c1)\r\n",
        "lista.insertar(c2)\r\n",
        "lista.insertar(c3)\r\n",
        "lista.insertar(c4)\r\n",
        "\r\n",
        "lista.imprimir()"
      ],
      "execution_count": 5,
      "outputs": [
        {
          "output_type": "stream",
          "text": [
            "Eduardo Zapeta=>Marco Lopez=>Josue Armas=>Gladys Olmos=>"
          ],
          "name": "stdout"
        }
      ]
    },
    {
      "cell_type": "markdown",
      "metadata": {
        "id": "mfP0EDIHQjUd"
      },
      "source": [
        "**LISTA CIRCULAR**\r\n"
      ]
    },
    {
      "cell_type": "code",
      "metadata": {
        "id": "N3dfxzuTQn11"
      },
      "source": [
        "class linked_list_circular:\r\n",
        "  def __init__(self, head = None):\r\n",
        "    self.head = head\r\n",
        "    self.size = 0\r\n",
        "\r\n",
        "  def insertar(self, cliente):\r\n",
        "    if self.size == 0:\r\n",
        "      self.head = node(cliente=cliente)\r\n",
        "      self.head.next = self.head\r\n",
        "    else:\r\n",
        "      new_node = node(cliente=cliente, next=self.head.next)\r\n",
        "      self.head.next = new_node\r\n",
        "    self.size += 1\r\n",
        "\r\n",
        "  def imprimir(self):\r\n",
        "    if self.head is None:\r\n",
        "      return\r\n",
        "    node = self.head\r\n",
        "    print(node.cliente.nombre, end= \"->\")\r\n",
        "    while node.next != self.head:\r\n",
        "      node = node.next\r\n",
        "      print(node.cliente.nombre, end = \"->\")\r\n",
        "  \r\n",
        "  def eliminar(self, no_habitacion):\r\n",
        "    #obtenido el valor de la cabecera\r\n",
        "    node = self.head\r\n",
        "    previous = None\r\n",
        "\r\n",
        "    while True:\r\n",
        "      if node.cliente.no_habitacion == no_habitacion:\r\n",
        "        if previous is not None:\r\n",
        "          previous.next = node.next\r\n",
        "        else:\r\n",
        "          while node.next != self.head:\r\n",
        "            node = node.next\r\n",
        "          node.next = self.head.next\r\n",
        "          self.head = self.head.next\r\n",
        "        self.size -= 1\r\n",
        "        return True\r\n",
        "      elif node.next == self.head:\r\n",
        "        return False\r\n",
        "      \r\n",
        "      previous = node\r\n",
        "      node =  node.next\r\n"
      ],
      "execution_count": 15,
      "outputs": []
    },
    {
      "cell_type": "code",
      "metadata": {
        "id": "VimUhyW_ROkS"
      },
      "source": [
        "lista_c = linked_list_circular()\r\n",
        "\r\n",
        "c5 = cliente(\"Carlos Primero\", 101)\r\n",
        "c6 = cliente(\"Jose Lopez\", 103)\r\n",
        "c7 = cliente(\"Gerry Armas\", 204)\r\n",
        "c8 = cliente(\"Ashley Pamela\", 302)"
      ],
      "execution_count": 16,
      "outputs": []
    },
    {
      "cell_type": "code",
      "metadata": {
        "id": "Y-RbhA1GRu5l"
      },
      "source": [
        "lista_c.insertar(c5)\r\n",
        "lista_c.insertar(c6)\r\n",
        "lista_c.insertar(c7)\r\n",
        "lista_c.insertar(c8)\r\n"
      ],
      "execution_count": 17,
      "outputs": []
    },
    {
      "cell_type": "code",
      "metadata": {
        "colab": {
          "base_uri": "https://localhost:8080/"
        },
        "id": "yIc3SCLyTzZ7",
        "outputId": "af2c3fca-3715-4e30-df30-3f7f3ece5963"
      },
      "source": [
        "lista_c.imprimir()"
      ],
      "execution_count": 18,
      "outputs": [
        {
          "output_type": "stream",
          "text": [
            "Carlos Primero->Ashley Pamela->Gerry Armas->Jose Lopez->"
          ],
          "name": "stdout"
        }
      ]
    },
    {
      "cell_type": "code",
      "metadata": {
        "colab": {
          "base_uri": "https://localhost:8080/"
        },
        "id": "_xTWb4ETfOeF",
        "outputId": "bc22bf8b-fb4f-4ffd-8991-03c78136bf9d"
      },
      "source": [
        "lista_c.eliminar(101)"
      ],
      "execution_count": 19,
      "outputs": [
        {
          "output_type": "execute_result",
          "data": {
            "text/plain": [
              "True"
            ]
          },
          "metadata": {
            "tags": []
          },
          "execution_count": 19
        }
      ]
    },
    {
      "cell_type": "code",
      "metadata": {
        "colab": {
          "base_uri": "https://localhost:8080/"
        },
        "id": "OEUPywmffZ9n",
        "outputId": "673cab75-33c3-486d-f2d5-e74a9fb56cf4"
      },
      "source": [
        "lista_c.imprimir()"
      ],
      "execution_count": 20,
      "outputs": [
        {
          "output_type": "stream",
          "text": [
            "Ashley Pamela->Gerry Armas->Jose Lopez->"
          ],
          "name": "stdout"
        }
      ]
    },
    {
      "cell_type": "code",
      "metadata": {
        "colab": {
          "base_uri": "https://localhost:8080/"
        },
        "id": "noQa2tZ_gg60",
        "outputId": "8dae45f1-bb00-430d-8888-c7461ea6dfac"
      },
      "source": [
        "lista_c.eliminar(204)"
      ],
      "execution_count": 21,
      "outputs": [
        {
          "output_type": "execute_result",
          "data": {
            "text/plain": [
              "True"
            ]
          },
          "metadata": {
            "tags": []
          },
          "execution_count": 21
        }
      ]
    },
    {
      "cell_type": "code",
      "metadata": {
        "colab": {
          "base_uri": "https://localhost:8080/"
        },
        "id": "MaOVAIlFgqoS",
        "outputId": "c30b57dc-4931-435c-df43-54f007d0ba5c"
      },
      "source": [
        "lista_c.eliminar(199)"
      ],
      "execution_count": 23,
      "outputs": [
        {
          "output_type": "execute_result",
          "data": {
            "text/plain": [
              "False"
            ]
          },
          "metadata": {
            "tags": []
          },
          "execution_count": 23
        }
      ]
    },
    {
      "cell_type": "code",
      "metadata": {
        "colab": {
          "base_uri": "https://localhost:8080/"
        },
        "id": "lvneASRRgnWD",
        "outputId": "bf71a429-bb9f-4674-e6e1-277258401680"
      },
      "source": [
        "lista_c.imprimir()"
      ],
      "execution_count": 22,
      "outputs": [
        {
          "output_type": "stream",
          "text": [
            "Ashley Pamela->Jose Lopez->"
          ],
          "name": "stdout"
        }
      ]
    },
    {
      "cell_type": "markdown",
      "metadata": {
        "id": "7qIwnKCwiq8u"
      },
      "source": [
        "**LISTAS DOBLEMENTE ENLAZADAS**"
      ]
    },
    {
      "cell_type": "code",
      "metadata": {
        "id": "VCkdXsezjLnG"
      },
      "source": [
        "class node_de:\r\n",
        "  def __init__(self, cliente=None, next=None, previous=None):\r\n",
        "    self.cliente=cliente\r\n",
        "    self.next=next\r\n",
        "    self.previous=previous \r\n",
        "\r\n",
        "  "
      ],
      "execution_count": null,
      "outputs": []
    }
  ]
}